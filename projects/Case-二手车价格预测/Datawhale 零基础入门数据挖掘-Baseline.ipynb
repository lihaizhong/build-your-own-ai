{
 "cells": [
  {
   "cell_type": "markdown",
   "id": "18654e05",
   "metadata": {},
   "source": [
    "# Step 1: 导入函数工具箱"
   ]
  },
  {
   "cell_type": "code",
   "execution_count": null,
   "id": "70ddfae2",
   "metadata": {},
   "outputs": [],
   "source": [
    "# 基础工具\n",
    "import os\n",
    "import numpy as np\n",
    "import pandas as pd\n",
    "import warnings\n",
    "import matplotlib.pyplot as plt\n",
    "from IPython.display import display\n",
    "\n",
    "warnings.filterwarnings('ignore')\n",
    "%matplotlib inline\n",
    "\n",
    "import lightgbm as lgb\n",
    "import xgboost as xgb\n",
    "\n",
    "# 参数搜索和评价的\n",
    "from sklearn.model_selection import GridSearchCV, StratifiedKFold, train_test_split\n",
    "from sklearn.metrics import mean_absolute_error\n",
    "\n",
    "# 设置pandas显示选项，显示所有列\n",
    "pd.set_option('display.max_columns', None)     # 显示所有列，不省略\n",
    "pd.set_option('display.width', None)           # 自动调整显示宽度\n",
    "pd.set_option('display.max_colwidth', 50)      # 每列内容最多显示50个字符\n",
    "\n",
    "def get_project_path(*paths):\n",
    "    \"\"\"获取项目路径的统一方法\"\"\"\n",
    "    try:\n",
    "        return os.path.join(os.path.dirname(__file__), *paths)\n",
    "    except NameError:\n",
    "        return os.path.join(os.getcwd(), *paths)"
   ]
  },
  {
   "cell_type": "markdown",
   "id": "bb022392",
   "metadata": {},
   "source": [
    "# Step 2: 数据读取"
   ]
  },
  {
   "cell_type": "code",
   "execution_count": null,
   "id": "13a17fc7",
   "metadata": {},
   "outputs": [],
   "source": [
    "# 通过pandas读取数据（Pandas 是一个很友好的数据读取函数库）\n",
    "Train_data = pd.read_csv(get_project_path('data', 'used_car_train_20200313.csv'), sep=' ')\n",
    "Test_data = pd.read_csv(get_project_path('data', 'used_car_testB_20200421.csv'), sep=' ')\n",
    "\n",
    "# 输出数据的大小信息\n",
    "print('Train data shape:', Train_data.shape)\n",
    "print('Test data shape:', Test_data.shape)"
   ]
  },
  {
   "cell_type": "markdown",
   "id": "9c6b5e76",
   "metadata": {},
   "source": [
    "## 1) 数据简要浏览"
   ]
  },
  {
   "cell_type": "code",
   "execution_count": null,
   "id": "cbcfe921",
   "metadata": {},
   "outputs": [],
   "source": [
    "# 通过 .head() 简要浏览读取数据的形式\n",
    "Train_data.head()"
   ]
  },
  {
   "cell_type": "markdown",
   "id": "6e7c73ed",
   "metadata": {},
   "source": [
    "## 2) 数据信息查看"
   ]
  },
  {
   "cell_type": "code",
   "execution_count": null,
   "id": "7d3d0128",
   "metadata": {},
   "outputs": [],
   "source": [
    "# 通过 .info() 简要可以看到对应的数据列名，以及NaN缺失信息\n",
    "Train_data.info()"
   ]
  },
  {
   "cell_type": "code",
   "execution_count": null,
   "id": "0e2cd2d9",
   "metadata": {},
   "outputs": [],
   "source": [
    "# 通过 .columns 查看列名\n",
    "Train_data.columns"
   ]
  },
  {
   "cell_type": "code",
   "execution_count": null,
   "id": "f20b1243",
   "metadata": {},
   "outputs": [],
   "source": [
    "Test_data.info()"
   ]
  },
  {
   "cell_type": "markdown",
   "id": "af9b3079",
   "metadata": {},
   "source": [
    "## 3) 数据统计信息浏览"
   ]
  },
  {
   "cell_type": "code",
   "execution_count": null,
   "id": "8f18e41d",
   "metadata": {},
   "outputs": [],
   "source": [
    "## 通过 .describe() 可以查看数值特征列的一些统计信息\n",
    "Train_data.describe()"
   ]
  },
  {
   "cell_type": "code",
   "execution_count": null,
   "id": "14bb5ddd",
   "metadata": {},
   "outputs": [],
   "source": [
    "Test_data.describe()"
   ]
  },
  {
   "cell_type": "markdown",
   "id": "d1f0a1bf",
   "metadata": {},
   "source": [
    "# Step 3: 特征与标签构建\n",
    "\n",
    "## 1) 提取数值类型特征列名"
   ]
  },
  {
   "cell_type": "code",
   "execution_count": null,
   "id": "38a0be73",
   "metadata": {},
   "outputs": [],
   "source": [
    "numerical_cols = Train_data.select_dtypes(exclude='object').columns\n",
    "print(numerical_cols)"
   ]
  },
  {
   "cell_type": "code",
   "execution_count": null,
   "id": "a8eee0ac",
   "metadata": {},
   "outputs": [],
   "source": [
    "categorical_cols = Train_data.select_dtypes(include='object').columns\n",
    "print(categorical_cols)"
   ]
  },
  {
   "cell_type": "markdown",
   "id": "b97a86c2",
   "metadata": {},
   "source": [
    "## 2) 构建训练和测试样本"
   ]
  },
  {
   "cell_type": "code",
   "execution_count": null,
   "id": "d3df3f86",
   "metadata": {},
   "outputs": [],
   "source": [
    "# 选择特征列\n",
    "feature_cols = [col for col in Train_data.columns if col not in ['SaleID', 'name', 'regDate', 'creatDate', 'price', 'model', 'brand', 'regionCode', 'seller']]\n",
    "feature_cols = [col for col in feature_cols if 'Type' not in col]\n",
    "\n",
    "# 提前特征列，标签列构造训练样本和测试样本\n",
    "X_data = Train_data[feature_cols]\n",
    "Y_data = Train_data['price']\n",
    "\n",
    "X_test = Test_data[feature_cols]\n",
    "\n",
    "print('X train shape:', X_data.shape)\n",
    "print('X test shape:', X_test.shape)"
   ]
  },
  {
   "cell_type": "code",
   "execution_count": null,
   "id": "f12b03ed",
   "metadata": {},
   "outputs": [],
   "source": [
    "# 定义一个统计函数，方便后续信息统计\n",
    "def Sta_inf(data):\n",
    "    print('_min', np.min(data))\n",
    "    print('_max', np.max(data))\n",
    "    print('_mean', np.mean(data))\n",
    "    print('_ptp', np.ptp(data))\n",
    "    print('_std', np.std(data))\n",
    "    print('_var', np.var(data))"
   ]
  },
  {
   "cell_type": "markdown",
   "id": "bfccecc1",
   "metadata": {},
   "source": [
    "## 3) 统计标签的基本分布信息"
   ]
  },
  {
   "cell_type": "code",
   "execution_count": null,
   "id": "917c5e47",
   "metadata": {},
   "outputs": [],
   "source": [
    "print('Sta of label:')\n",
    "Sta_inf(Y_data)"
   ]
  },
  {
   "cell_type": "code",
   "execution_count": null,
   "id": "a8447970",
   "metadata": {},
   "outputs": [],
   "source": [
    "# 绘制标签的统计图，查看标签分布\n",
    "plt.hist(Y_data)\n",
    "plt.show()\n",
    "plt.close()"
   ]
  },
  {
   "cell_type": "markdown",
   "id": "45babdd8",
   "metadata": {},
   "source": [
    "## 4) 缺省值用 -1 填补"
   ]
  },
  {
   "cell_type": "code",
   "execution_count": null,
   "id": "d4183f34",
   "metadata": {},
   "outputs": [],
   "source": [
    "X_data = X_data.fillna(-1)\n",
    "X_test = X_test.fillna(-1)"
   ]
  },
  {
   "cell_type": "markdown",
   "id": "284afa3b",
   "metadata": {},
   "source": [
    "# Step 4: 模型训练与预测\n",
    "\n",
    "## 1) 利用 XGBoost 进行五折交叉验证查看模型的参数效果"
   ]
  },
  {
   "cell_type": "code",
   "execution_count": null,
   "id": "782dbee4",
   "metadata": {},
   "outputs": [],
   "source": [
    "# XGBoost Model\n",
    "xgr = xgb.XGBRegressor(\n",
    "    n_estimators=120,\n",
    "    learning_rate=0.1,\n",
    "    gamma=0,\n",
    "    subsample=0.8,\n",
    "    colsample_bytree=0.9,\n",
    "    max_depth=7\n",
    ")\n",
    "\n",
    "scores_train = []\n",
    "scores = []\n",
    "\n",
    "# 5折交叉验证方式\n",
    "sk = StratifiedKFold(n_splits=5, shuffle=True, random_state=0)\n",
    "for train_ind, val_ind in sk.split(X_data, Y_data):\n",
    "    train_x = X_data.iloc[train_ind].values\n",
    "    train_y = Y_data.iloc[train_ind]\n",
    "    val_x = X_data.iloc[val_ind].values\n",
    "    val_y = Y_data.iloc[val_ind]\n",
    "\n",
    "    xgr.fit(train_x, train_y)\n",
    "    pred_train_xgb = xgr.predict(train_x)\n",
    "    pred_xgb = xgr.predict(val_x)\n",
    "\n",
    "    score_train = mean_absolute_error(train_y, pred_train_xgb)\n",
    "    scores_train.append(score_train)\n",
    "    score = mean_absolute_error(val_y, pred_xgb)\n",
    "    scores.append(score)\n",
    "\n",
    "print('Train mae:', np.mean(scores_train))\n",
    "print('Val mae:', np.mean(scores))"
   ]
  },
  {
   "cell_type": "markdown",
   "id": "beb0e43a",
   "metadata": {},
   "source": [
    "## 3) 切分数据集 (Train, Val) 进行模型训练，评价和预测"
   ]
  },
  {
   "cell_type": "markdown",
   "id": "ffce5254",
   "metadata": {},
   "source": [
    "## 2) 定义 xgb 和 lgb 模型函数"
   ]
  },
  {
   "cell_type": "code",
   "execution_count": null,
   "id": "9008745e",
   "metadata": {},
   "outputs": [],
   "source": [
    "def build_model_xgb(x_train, y_train):\n",
    "    model = xgb.XGBRegressor(\n",
    "        n_estimators=150,\n",
    "        learning_rate=0.1,\n",
    "        gamma=0,\n",
    "        subsample=0.8,\n",
    "        colsample_bytree=0.9,\n",
    "        max_depth=7\n",
    "    )\n",
    "    model.fit(x_train, y_train)\n",
    "\n",
    "    return model\n",
    "\n",
    "def build_model_lgb(x_train, y_train):\n",
    "    estimator = lgb.LGBMRegressor(num_leaves=127, n_estimators=150)\n",
    "    param_grid = { 'learning_rate': [0.01, 0.05, 0.1, 0.2] }\n",
    "    gbm = GridSearchCV(estimator, param_grid)\n",
    "    gbm.fit(x_train, y_train)\n",
    "\n",
    "    return gbm"
   ]
  },
  {
   "cell_type": "markdown",
   "id": "9e251992",
   "metadata": {},
   "source": [
    "## 3) 切分数据集 (Train, Val) 进行模型训练，评价和预测"
   ]
  },
  {
   "cell_type": "code",
   "execution_count": null,
   "id": "43b7a5dc",
   "metadata": {},
   "outputs": [],
   "source": [
    "## Split data with val\n",
    "x_train, x_val, y_train, y_val = train_test_split(X_data, Y_data, test_size=0.3)"
   ]
  },
  {
   "cell_type": "code",
   "execution_count": null,
   "id": "0a650094",
   "metadata": {},
   "outputs": [],
   "source": [
    "# Split data with val\n",
    "print('Train lgb...')\n",
    "model_lgb = build_model_lgb(x_train, y_train)\n",
    "val_lgb = model_lgb.predict(val_x)\n",
    "MAE_lgb = mean_absolute_error(val_y, val_lgb)\n",
    "print('MAE of val with lgb:', MAE_lgb)\n",
    "\n",
    "print('Predict lgb...')\n",
    "model_lgb_pre = build_model_lgb(X_data, Y_data)\n",
    "subB_lgb = model_lgb_pre.predict(X_test)\n",
    "print('Sta of Predict lgb:')\n",
    "Sta_inf(subB_lgb)"
   ]
  },
  {
   "cell_type": "code",
   "execution_count": null,
   "id": "a5a94b6c",
   "metadata": {},
   "outputs": [],
   "source": [
    "print('Train xgb...')\n",
    "model_xgb = build_model_xgb(x_train, y_train)\n",
    "val_xgb = model_xgb.predict(val_x)\n",
    "MAE_xgb = mean_absolute_error(val_y, val_xgb)\n",
    "print('MAE of val with xgb:', MAE_xgb)\n",
    "\n",
    "print('Predict xgb...')\n",
    "model_xgb_pre = build_model_xgb(X_data, Y_data)\n",
    "subB_xgb = model_xgb_pre.predict(X_test)\n",
    "print('Sta of Predict xgb:')\n",
    "Sta_inf(subB_xgb)"
   ]
  },
  {
   "cell_type": "markdown",
   "id": "cd4d39df",
   "metadata": {},
   "source": [
    "## 4) 进行两模型的结果加权融合"
   ]
  },
  {
   "cell_type": "code",
   "execution_count": null,
   "id": "eee9cce7",
   "metadata": {},
   "outputs": [],
   "source": [
    "# 这里我们采用了简单的加权融合的方式\n",
    "val_Weighted = (1 - MAE_lgb / (MAE_xgb + MAE_lgb)) * val_lgb + (1 - MAE_xgb / (MAE_xgb + MAE_lgb)) * val_xgb\n",
    "val_Weighted[val_Weighted < 0] = 10 # 由于我们发现预测的最小值有负数，而真实情况下，price 为负是不存在的，由此我们进行对应的后修正\n",
    "print('MAE of val with Weighted ensemble:', mean_absolute_error(val_y, val_Weighted))"
   ]
  },
  {
   "cell_type": "code",
   "execution_count": null,
   "id": "35b82da5",
   "metadata": {},
   "outputs": [],
   "source": [
    "sub_Weighted = (1 - MAE_lgb / (MAE_xgb + MAE_lgb)) * subB_lgb + (1 - MAE_xgb / (MAE_xgb + MAE_lgb)) * subB_xgb\n",
    "\n",
    "# 查看预测值的统计进行\n",
    "plt.hist(Y_data)\n",
    "plt.show()\n",
    "plt.close()"
   ]
  },
  {
   "cell_type": "markdown",
   "id": "547f44e2",
   "metadata": {},
   "source": [
    "## 5) 输出结果"
   ]
  },
  {
   "cell_type": "code",
   "execution_count": null,
   "id": "b449b3fe",
   "metadata": {},
   "outputs": [],
   "source": [
    "sub = pd.DataFrame()\n",
    "sub['SaleID'] = Test_data.SaleID\n",
    "sub['price'] = sub_Weighted\n",
    "sub.to_csv(get_project_path('prediction_result', 'submission.csv'), index=False)"
   ]
  },
  {
   "cell_type": "code",
   "execution_count": null,
   "id": "c978134a",
   "metadata": {},
   "outputs": [],
   "source": [
    "sub.head()"
   ]
  }
 ],
 "metadata": {
  "kernelspec": {
   "display_name": "build-your-own-ai (3.11.13)",
   "language": "python",
   "name": "python3"
  },
  "language_info": {
   "codemirror_mode": {
    "name": "ipython",
    "version": 3
   },
   "file_extension": ".py",
   "mimetype": "text/x-python",
   "name": "python",
   "nbconvert_exporter": "python",
   "pygments_lexer": "ipython3",
   "version": "3.11.13"
  }
 },
 "nbformat": 4,
 "nbformat_minor": 5
}
