{
 "cells": [
  {
   "cell_type": "markdown",
   "id": "16f52278",
   "metadata": {},
   "source": [
    "# 一、特征工程目标\n",
    "\n",
    "对于特征进一步分析，并对数据进行处理。\n",
    "\n",
    "完成对于特征工程的分析，并对数据进行一些图表或者文字总结并打卡。"
   ]
  },
  {
   "cell_type": "markdown",
   "id": "553a9513",
   "metadata": {},
   "source": [
    "# 二、内容介绍\n",
    "\n",
    "常见的特征工程包括：\n",
    "\n",
    "1. 异常处理：\n",
    "    - 通过箱线图（或 3-Sigma）分析删除异常值；\n",
    "    - BOX-COX 转换（处理有偏分布）；\n",
    "    - 长尾截断；\n",
    "2. 特征归一化/标准化：\n",
    "    - 标准化（转换为标准正态分布）；\n",
    "    - 归一化（抓换到[0, 1]区间）；\n",
    "    - 针对幂律分布，可以采用公式： $log({1 + x \\over 1 + median})$；\n",
    "3. 数据分桶：\n",
    "    - 等频分桶；\n",
    "    - 等距分桶；\n",
    "    - Best-KS 分桶（类似利用基尼指数进行二分类）；\n",
    "    - 卡方分桶；\n",
    "4. 缺失值处理：\n",
    "    - 不处理（针对类似 XGBoost等树模型）；\n",
    "    - 删除（缺失数据太多）；\n",
    "    - 插值补全，包括均值/中位数/众数/建模预测/多重插补/压缩感知补全/矩阵补全等；\n",
    "    - 分箱，缺失值一个箱；\n",
    "5. 特征构造：\n",
    "    - 构造统计量特征，报告计数、求和、比例、标准差等；\n",
    "    - 时间特征，包括相对时间和绝对时间，节假日、双休日等；\n",
    "    - 地理信息，包括分箱、分布编码等方法；\n",
    "    - 非线性变换，包括 log/平方/根号 等；\n",
    "    - 特征组合，特征交叉；\n",
    "    - <仁者见仁，智者见智>；\n",
    "6. 特征筛选\n",
    "    - 过滤式（filter）：先对数据进行特征选择，然后在训练学习器，常见的方法有 Relief/方差选择法/相关系数法/卡方检验法/互信息法；\n",
    "    - 包裹式（wrapper）：直接把最终将要使用的学习器的性能作为特征子集的评价准则，常见方法有 LVM（Las Vegas Wrapper）；\n",
    "    - 嵌入式（embedding）：结合过滤式和包裹式，学习器训练过程中自动进行了特征选择，常见的有 lasso 回归；\n",
    "7. 降维\n",
    "    - PCA/LDA/ICA；\n",
    "    - 特征选择也是一种降维；"
   ]
  },
  {
   "cell_type": "markdown",
   "id": "8c53f678",
   "metadata": {},
   "source": [
    "# 三、代码示例\n",
    "\n",
    "## 导入数据"
   ]
  },
  {
   "cell_type": "code",
   "execution_count": 140,
   "id": "67822d32",
   "metadata": {},
   "outputs": [],
   "source": [
    "import os\n",
    "import pandas as pd\n",
    "import numpy as np\n",
    "import matplotlib.pyplot as plt\n",
    "import seaborn as sns\n",
    "\n",
    "%matplotlib inline\n",
    "\n",
    "# 设置pandas显示选项，显示所有列\n",
    "pd.set_option('display.max_columns', None)     # 显示所有列，不省略\n",
    "pd.set_option('display.width', None)           # 自动调整显示宽度\n",
    "pd.set_option('display.max_colwidth', 50)      # 每列内容最多显示50个字符\n",
    "\n",
    "def get_project_path(*paths):\n",
    "    \"\"\"获取项目路径的统一方法\"\"\"\n",
    "    try:\n",
    "        return os.path.join(os.path.dirname(__file__), *paths)\n",
    "    except NameError:\n",
    "        return os.path.join(os.getcwd(), *paths)"
   ]
  },
  {
   "cell_type": "code",
   "execution_count": 141,
   "id": "69e60187",
   "metadata": {},
   "outputs": [
    {
     "name": "stdout",
     "output_type": "stream",
     "text": [
      "(150000, 31)\n",
      "(50000, 30)\n"
     ]
    }
   ],
   "source": [
    "## 1) 载入训练集和测试集\n",
    "Train_data = pd.read_csv(get_project_path('data', 'used_car_train_20200313.csv'), sep=' ')\n",
    "Test_data = pd.read_csv(get_project_path('data', 'used_car_testB_20200421.csv'), sep=' ')\n",
    "\n",
    "print(Train_data.shape)\n",
    "print(Test_data.shape)"
   ]
  },
  {
   "cell_type": "code",
   "execution_count": 142,
   "id": "64d9ad90",
   "metadata": {},
   "outputs": [
    {
     "data": {
      "text/html": [
       "<div>\n",
       "<style scoped>\n",
       "    .dataframe tbody tr th:only-of-type {\n",
       "        vertical-align: middle;\n",
       "    }\n",
       "\n",
       "    .dataframe tbody tr th {\n",
       "        vertical-align: top;\n",
       "    }\n",
       "\n",
       "    .dataframe thead th {\n",
       "        text-align: right;\n",
       "    }\n",
       "</style>\n",
       "<table border=\"1\" class=\"dataframe\">\n",
       "  <thead>\n",
       "    <tr style=\"text-align: right;\">\n",
       "      <th></th>\n",
       "      <th>SaleID</th>\n",
       "      <th>name</th>\n",
       "      <th>regDate</th>\n",
       "      <th>model</th>\n",
       "      <th>brand</th>\n",
       "      <th>bodyType</th>\n",
       "      <th>fuelType</th>\n",
       "      <th>gearbox</th>\n",
       "      <th>power</th>\n",
       "      <th>kilometer</th>\n",
       "      <th>notRepairedDamage</th>\n",
       "      <th>regionCode</th>\n",
       "      <th>seller</th>\n",
       "      <th>offerType</th>\n",
       "      <th>creatDate</th>\n",
       "      <th>price</th>\n",
       "      <th>v_0</th>\n",
       "      <th>v_1</th>\n",
       "      <th>v_2</th>\n",
       "      <th>v_3</th>\n",
       "      <th>v_4</th>\n",
       "      <th>v_5</th>\n",
       "      <th>v_6</th>\n",
       "      <th>v_7</th>\n",
       "      <th>v_8</th>\n",
       "      <th>v_9</th>\n",
       "      <th>v_10</th>\n",
       "      <th>v_11</th>\n",
       "      <th>v_12</th>\n",
       "      <th>v_13</th>\n",
       "      <th>v_14</th>\n",
       "    </tr>\n",
       "  </thead>\n",
       "  <tbody>\n",
       "    <tr>\n",
       "      <th>0</th>\n",
       "      <td>0</td>\n",
       "      <td>736</td>\n",
       "      <td>20040402</td>\n",
       "      <td>30.0</td>\n",
       "      <td>6</td>\n",
       "      <td>1.0</td>\n",
       "      <td>0.0</td>\n",
       "      <td>0.0</td>\n",
       "      <td>60</td>\n",
       "      <td>12.5</td>\n",
       "      <td>0.0</td>\n",
       "      <td>1046</td>\n",
       "      <td>0</td>\n",
       "      <td>0</td>\n",
       "      <td>20160404</td>\n",
       "      <td>1850</td>\n",
       "      <td>43.357796</td>\n",
       "      <td>3.966344</td>\n",
       "      <td>0.050257</td>\n",
       "      <td>2.159744</td>\n",
       "      <td>1.143786</td>\n",
       "      <td>0.235676</td>\n",
       "      <td>0.101988</td>\n",
       "      <td>0.129549</td>\n",
       "      <td>0.022816</td>\n",
       "      <td>0.097462</td>\n",
       "      <td>-2.881803</td>\n",
       "      <td>2.804097</td>\n",
       "      <td>-2.420821</td>\n",
       "      <td>0.795292</td>\n",
       "      <td>0.914762</td>\n",
       "    </tr>\n",
       "    <tr>\n",
       "      <th>1</th>\n",
       "      <td>1</td>\n",
       "      <td>2262</td>\n",
       "      <td>20030301</td>\n",
       "      <td>40.0</td>\n",
       "      <td>1</td>\n",
       "      <td>2.0</td>\n",
       "      <td>0.0</td>\n",
       "      <td>0.0</td>\n",
       "      <td>0</td>\n",
       "      <td>15.0</td>\n",
       "      <td>-</td>\n",
       "      <td>4366</td>\n",
       "      <td>0</td>\n",
       "      <td>0</td>\n",
       "      <td>20160309</td>\n",
       "      <td>3600</td>\n",
       "      <td>45.305273</td>\n",
       "      <td>5.236112</td>\n",
       "      <td>0.137925</td>\n",
       "      <td>1.380657</td>\n",
       "      <td>-1.422165</td>\n",
       "      <td>0.264777</td>\n",
       "      <td>0.121004</td>\n",
       "      <td>0.135731</td>\n",
       "      <td>0.026597</td>\n",
       "      <td>0.020582</td>\n",
       "      <td>-4.900482</td>\n",
       "      <td>2.096338</td>\n",
       "      <td>-1.030483</td>\n",
       "      <td>-1.722674</td>\n",
       "      <td>0.245522</td>\n",
       "    </tr>\n",
       "    <tr>\n",
       "      <th>2</th>\n",
       "      <td>2</td>\n",
       "      <td>14874</td>\n",
       "      <td>20040403</td>\n",
       "      <td>115.0</td>\n",
       "      <td>15</td>\n",
       "      <td>1.0</td>\n",
       "      <td>0.0</td>\n",
       "      <td>0.0</td>\n",
       "      <td>163</td>\n",
       "      <td>12.5</td>\n",
       "      <td>0.0</td>\n",
       "      <td>2806</td>\n",
       "      <td>0</td>\n",
       "      <td>0</td>\n",
       "      <td>20160402</td>\n",
       "      <td>6222</td>\n",
       "      <td>45.978359</td>\n",
       "      <td>4.823792</td>\n",
       "      <td>1.319524</td>\n",
       "      <td>-0.998467</td>\n",
       "      <td>-0.996911</td>\n",
       "      <td>0.251410</td>\n",
       "      <td>0.114912</td>\n",
       "      <td>0.165147</td>\n",
       "      <td>0.062173</td>\n",
       "      <td>0.027075</td>\n",
       "      <td>-4.846749</td>\n",
       "      <td>1.803559</td>\n",
       "      <td>1.565330</td>\n",
       "      <td>-0.832687</td>\n",
       "      <td>-0.229963</td>\n",
       "    </tr>\n",
       "    <tr>\n",
       "      <th>3</th>\n",
       "      <td>3</td>\n",
       "      <td>71865</td>\n",
       "      <td>19960908</td>\n",
       "      <td>109.0</td>\n",
       "      <td>10</td>\n",
       "      <td>0.0</td>\n",
       "      <td>0.0</td>\n",
       "      <td>1.0</td>\n",
       "      <td>193</td>\n",
       "      <td>15.0</td>\n",
       "      <td>0.0</td>\n",
       "      <td>434</td>\n",
       "      <td>0</td>\n",
       "      <td>0</td>\n",
       "      <td>20160312</td>\n",
       "      <td>2400</td>\n",
       "      <td>45.687478</td>\n",
       "      <td>4.492574</td>\n",
       "      <td>-0.050616</td>\n",
       "      <td>0.883600</td>\n",
       "      <td>-2.228079</td>\n",
       "      <td>0.274293</td>\n",
       "      <td>0.110300</td>\n",
       "      <td>0.121964</td>\n",
       "      <td>0.033395</td>\n",
       "      <td>0.000000</td>\n",
       "      <td>-4.509599</td>\n",
       "      <td>1.285940</td>\n",
       "      <td>-0.501868</td>\n",
       "      <td>-2.438353</td>\n",
       "      <td>-0.478699</td>\n",
       "    </tr>\n",
       "    <tr>\n",
       "      <th>4</th>\n",
       "      <td>4</td>\n",
       "      <td>111080</td>\n",
       "      <td>20120103</td>\n",
       "      <td>110.0</td>\n",
       "      <td>5</td>\n",
       "      <td>1.0</td>\n",
       "      <td>0.0</td>\n",
       "      <td>0.0</td>\n",
       "      <td>68</td>\n",
       "      <td>5.0</td>\n",
       "      <td>0.0</td>\n",
       "      <td>6977</td>\n",
       "      <td>0</td>\n",
       "      <td>0</td>\n",
       "      <td>20160313</td>\n",
       "      <td>5200</td>\n",
       "      <td>44.383511</td>\n",
       "      <td>2.031433</td>\n",
       "      <td>0.572169</td>\n",
       "      <td>-1.571239</td>\n",
       "      <td>2.246088</td>\n",
       "      <td>0.228036</td>\n",
       "      <td>0.073205</td>\n",
       "      <td>0.091880</td>\n",
       "      <td>0.078819</td>\n",
       "      <td>0.121534</td>\n",
       "      <td>-1.896240</td>\n",
       "      <td>0.910783</td>\n",
       "      <td>0.931110</td>\n",
       "      <td>2.834518</td>\n",
       "      <td>1.923482</td>\n",
       "    </tr>\n",
       "  </tbody>\n",
       "</table>\n",
       "</div>"
      ],
      "text/plain": [
       "   SaleID    name   regDate  model  brand  bodyType  fuelType  gearbox  power  \\\n",
       "0       0     736  20040402   30.0      6       1.0       0.0      0.0     60   \n",
       "1       1    2262  20030301   40.0      1       2.0       0.0      0.0      0   \n",
       "2       2   14874  20040403  115.0     15       1.0       0.0      0.0    163   \n",
       "3       3   71865  19960908  109.0     10       0.0       0.0      1.0    193   \n",
       "4       4  111080  20120103  110.0      5       1.0       0.0      0.0     68   \n",
       "\n",
       "   kilometer notRepairedDamage  regionCode  seller  offerType  creatDate  \\\n",
       "0       12.5               0.0        1046       0          0   20160404   \n",
       "1       15.0                 -        4366       0          0   20160309   \n",
       "2       12.5               0.0        2806       0          0   20160402   \n",
       "3       15.0               0.0         434       0          0   20160312   \n",
       "4        5.0               0.0        6977       0          0   20160313   \n",
       "\n",
       "   price        v_0       v_1       v_2       v_3       v_4       v_5  \\\n",
       "0   1850  43.357796  3.966344  0.050257  2.159744  1.143786  0.235676   \n",
       "1   3600  45.305273  5.236112  0.137925  1.380657 -1.422165  0.264777   \n",
       "2   6222  45.978359  4.823792  1.319524 -0.998467 -0.996911  0.251410   \n",
       "3   2400  45.687478  4.492574 -0.050616  0.883600 -2.228079  0.274293   \n",
       "4   5200  44.383511  2.031433  0.572169 -1.571239  2.246088  0.228036   \n",
       "\n",
       "        v_6       v_7       v_8       v_9      v_10      v_11      v_12  \\\n",
       "0  0.101988  0.129549  0.022816  0.097462 -2.881803  2.804097 -2.420821   \n",
       "1  0.121004  0.135731  0.026597  0.020582 -4.900482  2.096338 -1.030483   \n",
       "2  0.114912  0.165147  0.062173  0.027075 -4.846749  1.803559  1.565330   \n",
       "3  0.110300  0.121964  0.033395  0.000000 -4.509599  1.285940 -0.501868   \n",
       "4  0.073205  0.091880  0.078819  0.121534 -1.896240  0.910783  0.931110   \n",
       "\n",
       "       v_13      v_14  \n",
       "0  0.795292  0.914762  \n",
       "1 -1.722674  0.245522  \n",
       "2 -0.832687 -0.229963  \n",
       "3 -2.438353 -0.478699  \n",
       "4  2.834518  1.923482  "
      ]
     },
     "execution_count": 142,
     "metadata": {},
     "output_type": "execute_result"
    }
   ],
   "source": [
    "Train_data.head()"
   ]
  },
  {
   "cell_type": "code",
   "execution_count": 143,
   "id": "ba752eb0",
   "metadata": {},
   "outputs": [
    {
     "data": {
      "text/plain": [
       "Index(['SaleID', 'name', 'regDate', 'model', 'brand', 'bodyType', 'fuelType',\n",
       "       'gearbox', 'power', 'kilometer', 'notRepairedDamage', 'regionCode',\n",
       "       'seller', 'offerType', 'creatDate', 'price', 'v_0', 'v_1', 'v_2', 'v_3',\n",
       "       'v_4', 'v_5', 'v_6', 'v_7', 'v_8', 'v_9', 'v_10', 'v_11', 'v_12',\n",
       "       'v_13', 'v_14'],\n",
       "      dtype='object')"
      ]
     },
     "execution_count": 143,
     "metadata": {},
     "output_type": "execute_result"
    }
   ],
   "source": [
    "Train_data.columns"
   ]
  },
  {
   "cell_type": "code",
   "execution_count": 144,
   "id": "dcb0ac97",
   "metadata": {},
   "outputs": [
    {
     "data": {
      "text/plain": [
       "Index(['SaleID', 'name', 'regDate', 'model', 'brand', 'bodyType', 'fuelType',\n",
       "       'gearbox', 'power', 'kilometer', 'notRepairedDamage', 'regionCode',\n",
       "       'seller', 'offerType', 'creatDate', 'v_0', 'v_1', 'v_2', 'v_3', 'v_4',\n",
       "       'v_5', 'v_6', 'v_7', 'v_8', 'v_9', 'v_10', 'v_11', 'v_12', 'v_13',\n",
       "       'v_14'],\n",
       "      dtype='object')"
      ]
     },
     "execution_count": 144,
     "metadata": {},
     "output_type": "execute_result"
    }
   ],
   "source": [
    "Test_data.columns"
   ]
  },
  {
   "cell_type": "markdown",
   "id": "12f016d3",
   "metadata": {},
   "source": [
    "## 删除异常值"
   ]
  },
  {
   "cell_type": "code",
   "execution_count": 145,
   "id": "fe921b13",
   "metadata": {},
   "outputs": [],
   "source": [
    "# 这里我包装了一个异常值处理的代码，可以随便调用\n",
    "def outliers_proc(data, col_name, scale=3):\n",
    "    \"\"\"\n",
    "    用于清洗异常值，默认用 box_plot（scale=3）进行清洗\n",
    "    @param data 接收 pandas 数据格式\n",
    "    @param col_name pandas 列名\n",
    "    @param scale 尺度\n",
    "    @return\n",
    "    \"\"\"\n",
    "\n",
    "    def box_plot_outliers(data_ser, box_scale):\n",
    "        \"\"\"\n",
    "        利用箱线图去除异常值\n",
    "        @param data_ser 接收 pandas.Series 数据格式\n",
    "        @param box_scale 箱线图尺寸\n",
    "        @return\n",
    "        \"\"\"\n",
    "        iqr = box_scale * (data_ser.quantile(0.75) - data_ser.quantile(0.25))\n",
    "        val_low = data_ser.quantile(0.25) - iqr\n",
    "        val_up = data_ser.quantile(0.75) + iqr\n",
    "        rule_low = data_ser < val_low\n",
    "        rule_up = data_ser > val_up\n",
    "\n",
    "        return (rule_low, rule_up), (val_low, val_up)\n",
    "    \n",
    "    data_n = data.copy()\n",
    "    print('data length: ', len(data), 'data_n length: ', len(data_n))\n",
    "    data_series = data_n[col_name]\n",
    "    print(f'{col_name} rows: ', len(data_series))\n",
    "    rule, value = box_plot_outliers(data_series, box_scale=scale)\n",
    "    index = np.arange(data_series.shape[0])[rule[0] | rule[1]]\n",
    "    print('rule', rule, 'value', value)\n",
    "    print('Delete number is: {}'.format(len(index)))\n",
    "    \n",
    "    data_n = data_n.drop(index)\n",
    "    data_n.reset_index(drop=True, inplace=True)\n",
    "    print('Now column number is: {}'.format(data_n.shape[0]))\n",
    "    \n",
    "    index_low = np.arange(data_series.shape[0])[rule[0]]\n",
    "    outliers = data_series.iloc[index_low]\n",
    "    print('index_low: ', index_low ,'outliers: ', outliers)\n",
    "    print('Description of data less than the lower bound is:')\n",
    "    print(pd.Series(outliers).describe())\n",
    "    \n",
    "    index_up = np.arange(data_series.shape[0])[rule[1]]\n",
    "    outliers = data_series.iloc[index_up]\n",
    "    print('index_up: ', index_up ,'outliers: ', outliers)\n",
    "    print('Description of data larger than the upper bound is:')\n",
    "    print(pd.Series(outliers).describe())\n",
    "\n",
    "    fig, ax = plt.subplots(1, 2, figsize=(10, 7))\n",
    "    sns.boxplot(y=data[col_name], data=data, palette=\"Set1\", ax=ax[0])\n",
    "    sns.boxplot(y=data_n[col_name], data=data_n, palette=\"Set1\", ax=ax[1])\n",
    "\n",
    "    return data_n"
   ]
  },
  {
   "cell_type": "code",
   "execution_count": 146,
   "id": "c55cc7a8",
   "metadata": {},
   "outputs": [
    {
     "name": "stdout",
     "output_type": "stream",
     "text": [
      "data length:  150000 data_n length:  150000\n",
      "power rows:  150000\n",
      "rule (0         False\n",
      "1         False\n",
      "2         False\n",
      "3         False\n",
      "4         False\n",
      "          ...  \n",
      "149995    False\n",
      "149996    False\n",
      "149997    False\n",
      "149998    False\n",
      "149999    False\n",
      "Name: power, Length: 150000, dtype: bool, 0         False\n",
      "1         False\n",
      "2         False\n",
      "3         False\n",
      "4         False\n",
      "          ...  \n",
      "149995    False\n",
      "149996    False\n",
      "149997    False\n",
      "149998    False\n",
      "149999    False\n",
      "Name: power, Length: 150000, dtype: bool) value (np.float64(-150.0), np.float64(375.0))\n",
      "Delete number is: 963\n",
      "Now column number is: 149037\n",
      "index_low:  [] outliers:  Series([], Name: power, dtype: int64)\n",
      "Description of data less than the lower bound is:\n",
      "count    0.0\n",
      "mean     NaN\n",
      "std      NaN\n",
      "min      NaN\n",
      "25%      NaN\n",
      "50%      NaN\n",
      "75%      NaN\n",
      "max      NaN\n",
      "Name: power, dtype: float64\n",
      "index_up:  [    77    171    221    534    632    751    882    919   1080   1283\n",
      "   1331   1337   1437   2002   2088   2187   2526   2671   2917   3161\n",
      "   3417   4077   4271   4297   4398   4428   4790   4930   5179   5371\n",
      "   5397   5459   5495   5648   5674   5747   5794   5976   6188   6471\n",
      "   6656   6899   6905   6910   6933   7114   7128   7154   7249   7257\n",
      "   7338   7753   7869   7955   8046   8408   8443   8454   8492   9555\n",
      "   9647   9707   9778   9978  10376  10580  10630  10725  11015  11051\n",
      "  11260  11302  11337  11385  12082  12340  12411  12482  13006  13117\n",
      "  13179  13201  13277  13633  13660  13684  13813  14615  15090  15226\n",
      "  15586  15621  15878  16137  16284  16356  16446  16640  16851  16957\n",
      "  17095  17385  17394  17486  17594  18205  18308  18343  19057  19320\n",
      "  19415  19564  19659  19834  19980  20049  20115  20168  20175  20271\n",
      "  20664  20920  20965  21333  21358  21402  21491  21540  22020  22102\n",
      "  22136  22276  22336  22435  22531  22857  22872  22895  23055  23579\n",
      "  23618  24009  24014  24342  24740  24817  24964  25187  25282  25370\n",
      "  25396  25744  26505  26603  26786  26907  27025  27081  27142  27186\n",
      "  27274  27578  28038  28187  28389  28448  28544  28845  28875  28878\n",
      "  29206  29307  29518  29738  30100  30171  30199  30312  30332  30334\n",
      "  30485  30596  30652  30885  31055  31133  31345  31396  31415  31509\n",
      "  31646  31743  31905  32211  32260  32320  32831  32892  33320  33435\n",
      "  33701  33710  33741  33769  33786  33876  34180  34549  34849  35023\n",
      "  35728  35790  35943  35951  35958  36066  36154  36430  36566  36608\n",
      "  36828  36907  37026  37097  37225  37421  37490  37625  37729  37884\n",
      "  38306  38539  38582  38738  38867  38879  39000  39031  39204  39248\n",
      "  39489  39975  40175  40204  40518  40712  40782  40791  40802  40877\n",
      "  40907  41388  41508  41522  41623  41779  41944  41975  42107  42170\n",
      "  42491  42502  42524  43057  43217  43740  43993  44270  44347  44348\n",
      "  45313  45376  45531  45549  45826  46102  46118  46182  46335  46406\n",
      "  46520  46695  47012  47394  47708  47849  47850  47930  47999  48096\n",
      "  48209  48648  48885  49071  49092  49127  49268  49281  49319  49403\n",
      "  49441  49509  49839  49842  49971  50245  50290  50969  51003  51287\n",
      "  51463  51710  51769  51790  51816  51857  51884  52054  52269  52446\n",
      "  52525  52800  52841  53072  53114  53292  53355  53392  53552  53620\n",
      "  53656  53664  53803  53897  54168  54205  54739  54763  54819  54871\n",
      "  55672  55723  56031  56083  56384  56486  56678  56804  56810  56841\n",
      "  57331  57512  57542  57684  57687  57689  57694  58285  58319  58583\n",
      "  58584  59076  59314  59617  59779  59791  59885  59992  60205  60330\n",
      "  60604  60695  60791  60909  61076  61492  61532  61533  61608  61781\n",
      "  61833  61939  61982  62271  62384  62451  62498  62506  62901  63018\n",
      "  63278  63308  63327  63401  63445  63664  64157  64217  64283  64623\n",
      "  64642  64842  64922  64977  64985  65075  65150  65348  65972  66028\n",
      "  66113  66255  66282  66434  66560  66735  66780  67108  67377  67551\n",
      "  67659  68043  68248  68262  68387  68700  68742  69103  69349  69873\n",
      "  69976  70150  70152  70878  71015  71018  71101  71140  71210  71251\n",
      "  71465  71488  71952  72068  72498  72505  72525  72909  72968  73199\n",
      "  73347  73412  73460  73483  73544  73594  73776  73782  73954  74073\n",
      "  74106  74119  74177  74232  74502  74606  74696  75066  75119  75356\n",
      "  75383  75477  75551  75609  75654  75658  75667  75669  75877  75901\n",
      "  76130  76187  76192  76305  76375  76384  76481  76736  76940  77315\n",
      "  77692  77837  77842  78053  78132  78211  78297  78326  78331  78829\n",
      "  78905  78923  78985  79144  79449  79619  79623  79648  79783  79798\n",
      "  79972  79982  80024  80065  80157  80205  80334  80460  80527  80630\n",
      "  80965  81206  81481  81552  81587  81899  81993  82186  82207  82363\n",
      "  82592  82710  82749  82911  82958  82965  83240  83296  83310  83457\n",
      "  83596  83684  83726  83848  83952  84263  84323  84400  84469  84589\n",
      "  84815  84978  85229  85483  85946  86042  86109  86268  86283  86350\n",
      "  86673  86731  86783  87075  87209  87334  87500  87545  87600  87663\n",
      "  87974  88017  88115  88325  88386  88698  88813  88895  88971  89114\n",
      "  89180  89306  89423  89522  89525  89607  89641  89647  89657  89765\n",
      "  89933  90124  90179  90199  90374  91010  91013  91060  91217  91233\n",
      "  91278  91327  91570  91690  91712  92286  92312  92352  92397  92461\n",
      "  92547  92557  92677  92698  92769  92812  92897  92899  93182  93782\n",
      "  93893  94256  94297  94308  94447  94506  94521  94526  94759  94812\n",
      "  95029  95306  95308  95420  95629  95636  95652  96063  96146  96164\n",
      "  96370  96559  96706  97047  97132  97661  97825  97907  98055  98067\n",
      "  98155  98200  98447  98483  98503  98506  98512  98513  98530  98733\n",
      "  98737  98797  99031  99053  99092  99143 100070 100141 100326 100465\n",
      " 100468 100597 100830 100940 101034 101132 101146 101169 101234 101366\n",
      " 101382 101545 101703 101821 101841 101907 102071 102441 102512 102871\n",
      " 103297 103384 103402 103465 103488 103622 103650 103743 104009 104181\n",
      " 104336 104344 104545 104630 104832 105007 105349 105362 105435 105669\n",
      " 105736 105808 105851 105863 105881 106233 106254 106427 106438 106456\n",
      " 106515 107141 107283 107501 107515 107549 107571 107606 107700 107805\n",
      " 108274 108337 108814 108873 108931 109037 109187 109456 109801 110054\n",
      " 110272 110421 110555 110754 110897 111195 111230 111329 111384 111613\n",
      " 111818 111857 112123 112184 112248 112717 112903 112993 113066 113141\n",
      " 113396 113495 113646 113689 113728 113849 113894 113948 114135 114248\n",
      " 114486 114708 114917 115280 115755 116653 116699 116853 116948 117070\n",
      " 117189 117328 117333 117375 117595 117704 118142 118313 118333 118444\n",
      " 118515 118578 119005 119267 119276 119876 119983 120031 120349 120353\n",
      " 120767 120778 121331 121396 121824 122114 122116 122206 122836 122905\n",
      " 123094 123249 123328 123476 123622 123811 123948 124187 124534 124546\n",
      " 124580 124778 124924 125168 125764 125962 126059 126190 126197 126365\n",
      " 126511 126638 126766 126999 127210 127281 127288 127331 127358 127706\n",
      " 127980 128168 128271 128519 128540 128637 128713 128735 128870 129033\n",
      " 129371 129434 129758 129802 129887 129912 129916 129938 130017 130921\n",
      " 131440 131547 132362 133080 133615 133958 134035 134179 134303 134324\n",
      " 134473 134570 134577 134659 134765 134766 134881 134936 134956 135024\n",
      " 135100 135486 135510 136441 136637 136654 136805 136845 136914 137833\n",
      " 137865 137903 137933 138272 138311 138419 138581 138841 139041 139138\n",
      " 139234 139288 139337 139391 139804 139894 140076 140159 140386 140450\n",
      " 141546 141669 141836 141991 142235 142389 142434 142741 143298 143504\n",
      " 143527 143654 143661 143681 144091 144740 144782 144847 144934 145523\n",
      " 145586 145666 145924 146036 146222 146245 146277 146365 146678 147519\n",
      " 147691 147891 148030 148049 148197 148246 148365 148439 148456 148554\n",
      " 148665 148701 148751 148771 148824 148969 149039 149251 149414 149586\n",
      " 149644 149927 149955] outliers:  77         500\n",
      "171        387\n",
      "221        740\n",
      "534       7515\n",
      "632        396\n",
      "          ... \n",
      "149414     450\n",
      "149586     457\n",
      "149644     549\n",
      "149927     450\n",
      "149955     585\n",
      "Name: power, Length: 963, dtype: int64\n",
      "Description of data larger than the upper bound is:\n",
      "count      963.000000\n",
      "mean       846.836968\n",
      "std       1929.418081\n",
      "min        376.000000\n",
      "25%        400.000000\n",
      "50%        436.000000\n",
      "75%        514.000000\n",
      "max      19312.000000\n",
      "Name: power, dtype: float64\n"
     ]
    },
    {
     "data": {
      "image/png": "[encoded data removed]",
      "text/plain": [
       "<Figure size 1000x700 with 2 Axes>"
      ]
     },
     "metadata": {},
     "output_type": "display_data"
    }
   ],
   "source": [
    "# 我们可以删掉一些异常数据，以 power 为例\n",
    "# 这里删不删同学可以自行判断\n",
    "# 但是要注意 test 的数据不能删 == 不能掩耳盗铃是不是\n",
    "\n",
    "Train_data = outliers_proc(Train_data, 'power', scale=3)"
   ]
  },
  {
   "cell_type": "markdown",
   "id": "465d2345",
   "metadata": {},
   "source": [
    "## 特征构造"
   ]
  },
  {
   "cell_type": "code",
   "execution_count": 147,
   "id": "aff169d1",
   "metadata": {},
   "outputs": [],
   "source": [
    "# 训练集和测试集放在一起，方便构造特征\n",
    "Train_data['train'] = 1\n",
    "Test_data['train'] = 0\n",
    "data = pd.concat([Train_data, Test_data], ignore_index=True)"
   ]
  },
  {
   "cell_type": "code",
   "execution_count": 148,
   "id": "a255fff3",
   "metadata": {},
   "outputs": [],
   "source": [
    "# 使用时间：data['creatDate'] - data['regDate']，反映汽车使用时间，一般来说价格与使用时间成反比\n",
    "# 不过要注意，数据里有时间出错的格式，所以我们需要 errors='coerce'\n",
    "data['used_time'] = (pd.to_datetime(data['creatDate'], format='%Y%m%d', errors='coerce') - pd.to_datetime(data['regDate'], format='%Y%m%d', errors='coerce')).dt.days"
   ]
  },
  {
   "cell_type": "code",
   "execution_count": 149,
   "id": "82d62926",
   "metadata": {},
   "outputs": [
    {
     "data": {
      "text/plain": [
       "np.int64(15054)"
      ]
     },
     "execution_count": 149,
     "metadata": {},
     "output_type": "execute_result"
    }
   ],
   "source": [
    "# 看一下空数据，有 15k 个样本的时间是有问题的，我们可以选择删除，也可以选择放着。\n",
    "# 这里不建议删除，因为删除缺失数据占总样本量过大，7.5%\n",
    "# 我们可以先放着，因为如果我们 XGBoost 之类的决策树，其本身就能处理缺失值，所以可以不用管。\n",
    "data['used_time'].isnull().sum()"
   ]
  },
  {
   "cell_type": "code",
   "execution_count": 150,
   "id": "09ffd0f9",
   "metadata": {},
   "outputs": [],
   "source": [
    "# 从邮编中提取城市信息，相当于加入了先验知识\n",
    "# 四级六位编码制，前两位表示省（直辖市、自治区），第三位代表邮区，第四位代表县（市），最后两位为投递区位置。\n",
    "data['city'] = data['regionCode'].apply(lambda x : str(x)[:-3])\n",
    "data = data"
   ]
  },
  {
   "cell_type": "code",
   "execution_count": 151,
   "id": "94ad8c3b",
   "metadata": {},
   "outputs": [
    {
     "data": {
      "text/plain": [
       "0         1\n",
       "1         4\n",
       "2         2\n",
       "3          \n",
       "4         6\n",
       "         ..\n",
       "199032    5\n",
       "199033    5\n",
       "199034    3\n",
       "199035     \n",
       "199036    4\n",
       "Name: city, Length: 199037, dtype: object"
      ]
     },
     "execution_count": 151,
     "metadata": {},
     "output_type": "execute_result"
    }
   ],
   "source": [
    "data['city']"
   ]
  },
  {
   "cell_type": "code",
   "execution_count": 152,
   "id": "0463bf3d",
   "metadata": {},
   "outputs": [],
   "source": [
    "# 计算某品牌的销售统计量，同学们还可以计算其他特征的统计量\n",
    "# 这里要以 train 的数据计算统计量\n",
    "Train_gb = Train_data.groupby('brand')\n",
    "all_info = {}\n",
    "for kind, kind_data in Train_gb:\n",
    "    info = {}\n",
    "    kind_data = kind_data[kind_data['price'] > 0]\n",
    "    info['brand_amount'] = len(kind_data)\n",
    "    info['brand_price_max'] = kind_data.price.max()\n",
    "    info['brand_price_median'] = kind_data.price.median()\n",
    "    info['brand_price_min'] = kind_data.price.min()\n",
    "    info['brand_price_sum'] = kind_data.price.sum()\n",
    "    info['brand_price_std'] = kind_data.price.std()\n",
    "    info['brand_price_average'] = round(kind_data.price.sum() / (len(kind_data) + 1), 2)\n",
    "    all_info[kind] = info\n",
    "\n",
    "brand_fe = pd.DataFrame(all_info).T.reset_index().rename(columns={'index': 'brand'})\n",
    "data = data.merge(brand_fe, how='left', on='brand')"
   ]
  },
  {
   "cell_type": "code",
   "execution_count": 153,
   "id": "62473463",
   "metadata": {},
   "outputs": [
    {
     "data": {
      "text/html": [
       "<div>\n",
       "<style scoped>\n",
       "    .dataframe tbody tr th:only-of-type {\n",
       "        vertical-align: middle;\n",
       "    }\n",
       "\n",
       "    .dataframe tbody tr th {\n",
       "        vertical-align: top;\n",
       "    }\n",
       "\n",
       "    .dataframe thead th {\n",
       "        text-align: right;\n",
       "    }\n",
       "</style>\n",
       "<table border=\"1\" class=\"dataframe\">\n",
       "  <thead>\n",
       "    <tr style=\"text-align: right;\">\n",
       "      <th></th>\n",
       "      <th>power_bin</th>\n",
       "      <th>power</th>\n",
       "    </tr>\n",
       "  </thead>\n",
       "  <tbody>\n",
       "    <tr>\n",
       "      <th>0</th>\n",
       "      <td>5.0</td>\n",
       "      <td>60</td>\n",
       "    </tr>\n",
       "    <tr>\n",
       "      <th>1</th>\n",
       "      <td>NaN</td>\n",
       "      <td>0</td>\n",
       "    </tr>\n",
       "    <tr>\n",
       "      <th>2</th>\n",
       "      <td>16.0</td>\n",
       "      <td>163</td>\n",
       "    </tr>\n",
       "    <tr>\n",
       "      <th>3</th>\n",
       "      <td>19.0</td>\n",
       "      <td>193</td>\n",
       "    </tr>\n",
       "    <tr>\n",
       "      <th>4</th>\n",
       "      <td>6.0</td>\n",
       "      <td>68</td>\n",
       "    </tr>\n",
       "  </tbody>\n",
       "</table>\n",
       "</div>"
      ],
      "text/plain": [
       "   power_bin  power\n",
       "0        5.0     60\n",
       "1        NaN      0\n",
       "2       16.0    163\n",
       "3       19.0    193\n",
       "4        6.0     68"
      ]
     },
     "execution_count": 153,
     "metadata": {},
     "output_type": "execute_result"
    }
   ],
   "source": [
    "# 数据分桶 以 power 为例\n",
    "# 这时候我们的缺失值也进桶了\n",
    "# 为什么要做数据分桶呢？原因有很多\n",
    "# 1. 离散后稀疏向量内积乘法运算速度更快，计算结果也方便存储，容易扩展\n",
    "# 2. 离散后的特征对异常值更具鲁棒性，如 age > 30 为 1，否则为 0。对于年龄为 200 的也不会对模型造成很大的干扰\n",
    "# 3. LR 属于广义线性模型，表达能力有限。经过离散化后，每个变量有单独的权重，这相当于引入了非线性，能够提升模型的表达能力，加入拟合\n",
    "# 4. 离散后特征可以进行特征交叉，提升表单能力，由 M + N 个变量编程 M * N 个变量，进一步引入非线性，提升了表达能力\n",
    "# 5. 特征离散后模型更稳定，如用户年龄区间，不会因为用户年龄长了一岁就变化\n",
    "\n",
    "# 当然还有很多原因，LightGBM 在改进 XGBoost 时就增加了数据分桶，增强了模型的泛化性\n",
    "bin = [i * 10 for i in range(31)]\n",
    "data['power_bin'] = pd.cut(data['power'], bin, labels=False)\n",
    "data[['power_bin', 'power']].head()"
   ]
  },
  {
   "cell_type": "code",
   "execution_count": 154,
   "id": "e76a8fc6",
   "metadata": {},
   "outputs": [],
   "source": [
    "# 删除不需要的数据\n",
    "data = data.drop(['creatDate', 'regDate', 'regionCode'], axis=1)"
   ]
  },
  {
   "cell_type": "code",
   "execution_count": 155,
   "id": "5b581c77",
   "metadata": {},
   "outputs": [
    {
     "name": "stdout",
     "output_type": "stream",
     "text": [
      "(199037, 39)\n"
     ]
    },
    {
     "data": {
      "text/plain": [
       "Index(['SaleID', 'name', 'model', 'brand', 'bodyType', 'fuelType', 'gearbox',\n",
       "       'power', 'kilometer', 'notRepairedDamage', 'seller', 'offerType',\n",
       "       'price', 'v_0', 'v_1', 'v_2', 'v_3', 'v_4', 'v_5', 'v_6', 'v_7', 'v_8',\n",
       "       'v_9', 'v_10', 'v_11', 'v_12', 'v_13', 'v_14', 'train', 'used_time',\n",
       "       'city', 'brand_amount', 'brand_price_max', 'brand_price_median',\n",
       "       'brand_price_min', 'brand_price_sum', 'brand_price_std',\n",
       "       'brand_price_average', 'power_bin'],\n",
       "      dtype='object')"
      ]
     },
     "execution_count": 155,
     "metadata": {},
     "output_type": "execute_result"
    }
   ],
   "source": [
    "print(data.shape)\n",
    "data.columns"
   ]
  },
  {
   "cell_type": "code",
   "execution_count": 156,
   "id": "8bf8b3ab",
   "metadata": {},
   "outputs": [],
   "source": [
    "# 目前的数据其实已经可以给树模型使用了，所以我们导出一下\n",
    "data.to_csv(get_project_path('user_data', 'data_for_tree.csv'), index=False)"
   ]
  },
  {
   "cell_type": "code",
   "execution_count": 157,
   "id": "787877c9",
   "metadata": {},
   "outputs": [
    {
     "data": {
      "text/plain": [
       "<Axes: ylabel='Frequency'>"
      ]
     },
     "execution_count": 157,
     "metadata": {},
     "output_type": "execute_result"
    },
    {
     "data": {
      "image/png": "[encoded data removed]",
      "text/plain": [
       "<Figure size 640x480 with 1 Axes>"
      ]
     },
     "metadata": {},
     "output_type": "display_data"
    }
   ],
   "source": [
    "# 我们可以再构造一份特征给 LR NN 之类的模型用\n",
    "# 之所以分开构造是因为不同模型对数据集的要求不同\n",
    "# 我们看下数据分布：\n",
    "data['power'].plot.hist()"
   ]
  },
  {
   "cell_type": "code",
   "execution_count": 158,
   "id": "8f1f083f",
   "metadata": {},
   "outputs": [
    {
     "data": {
      "text/plain": [
       "<Axes: ylabel='Frequency'>"
      ]
     },
     "execution_count": 158,
     "metadata": {},
     "output_type": "execute_result"
    },
    {
     "data": {
      "image/png": "[encoded data removed]",
      "text/plain": [
       "<Figure size 640x480 with 1 Axes>"
      ]
     },
     "metadata": {},
     "output_type": "display_data"
    }
   ],
   "source": [
    "# 我们刚刚已经对 train 进行异常值处理了，但是现在还有这么奇怪的分布是因为 test 中的 power 异常值\n",
    "# 所以我们其实刚刚 train 中的 power 异常值不删为好，可以用长尾分布截断来代替\n",
    "Train_data['power'].plot.hist()"
   ]
  },
  {
   "cell_type": "code",
   "execution_count": 159,
   "id": "35807e03",
   "metadata": {},
   "outputs": [],
   "source": [
    "def max_min(x):\n",
    "    return (x - np.min(x)) / (np.max(x) - np.min(x))"
   ]
  },
  {
   "cell_type": "code",
   "execution_count": 160,
   "id": "d2434c60",
   "metadata": {},
   "outputs": [
    {
     "data": {
      "text/plain": [
       "<Axes: ylabel='Frequency'>"
      ]
     },
     "execution_count": 160,
     "metadata": {},
     "output_type": "execute_result"
    },
    {
     "data": {
      "image/png": "[encoded data removed]",
      "text/plain": [
       "<Figure size 640x480 with 1 Axes>"
      ]
     },
     "metadata": {},
     "output_type": "display_data"
    }
   ],
   "source": [
    "# 我们对其取 log，再做归一化\n",
    "from sklearn import preprocessing\n",
    "\n",
    "min_max_scaler = preprocessing.MinMaxScaler()\n",
    "data['power'] = np.log(data['power'] + 1)\n",
    "data['power'] = max_min(data['power'])\n",
    "data['power'].plot.hist()"
   ]
  },
  {
   "cell_type": "code",
   "execution_count": 161,
   "id": "b59385c4",
   "metadata": {},
   "outputs": [
    {
     "data": {
      "text/plain": [
       "<Axes: ylabel='Frequency'>"
      ]
     },
     "execution_count": 161,
     "metadata": {},
     "output_type": "execute_result"
    },
    {
     "data": {
      "image/png": "[encoded data removed]",
      "text/plain": [
       "<Figure size 640x480 with 1 Axes>"
      ]
     },
     "metadata": {},
     "output_type": "display_data"
    }
   ],
   "source": [
    "# km 的比较正常，应该是已经做过分桶了\n",
    "data['kilometer'].plot.hist()"
   ]
  },
  {
   "cell_type": "code",
   "execution_count": 162,
   "id": "48fda21b",
   "metadata": {},
   "outputs": [
    {
     "data": {
      "text/plain": [
       "<Axes: ylabel='Frequency'>"
      ]
     },
     "execution_count": 162,
     "metadata": {},
     "output_type": "execute_result"
    },
    {
     "data": {
      "image/png": "[encoded data removed]",
      "text/plain": [
       "<Figure size 640x480 with 1 Axes>"
      ]
     },
     "metadata": {},
     "output_type": "display_data"
    }
   ],
   "source": [
    "# 所以我们可以直接做归一化\n",
    "data['kilometer'] = max_min(data['kilometer'])\n",
    "data['kilometer'].plot.hist()"
   ]
  },
  {
   "cell_type": "code",
   "execution_count": 163,
   "id": "a5e98d27",
   "metadata": {},
   "outputs": [],
   "source": [
    "# 除此之外，还有我们刚刚构造的统计量特征：\n",
    "# 'brand_amount', 'brand_price_average', 'brand_price_max',\n",
    "# 'brand_price_median', 'brand_price_min', 'brand_price_std',\n",
    "# 'brand_price_sum'\n",
    "# 这里不再一一举例分析了，直接做变换\n",
    "\n",
    "data['brand_amount'] = max_min(data['brand_amount'])\n",
    "data['brand_price_average'] = max_min(data['brand_price_average'])\n",
    "data['brand_price_max'] = max_min(data['brand_price_max'])\n",
    "data['brand_price_median'] = max_min(data['brand_price_median'])\n",
    "data['brand_price_min'] = max_min(data['brand_price_min'])\n",
    "data['brand_price_std'] = max_min(data['brand_price_std'])\n",
    "data['brand_price_sum'] = max_min(data['brand_price_sum'])"
   ]
  },
  {
   "cell_type": "code",
   "execution_count": 164,
   "id": "7d051cf0",
   "metadata": {},
   "outputs": [],
   "source": [
    "# 对类别特征进行 OneEncoder\n",
    "data = pd.get_dummies(data, columns=['model', 'brand', 'bodyType', 'fuelType', 'gearbox', 'notRepairedDamage', 'power_bin'])"
   ]
  },
  {
   "cell_type": "code",
   "execution_count": 165,
   "id": "cee47f38",
   "metadata": {},
   "outputs": [
    {
     "name": "stdout",
     "output_type": "stream",
     "text": [
      "(199037, 370)\n"
     ]
    },
    {
     "data": {
      "text/plain": [
       "Index(['SaleID', 'name', 'power', 'kilometer', 'seller', 'offerType', 'price',\n",
       "       'v_0', 'v_1', 'v_2',\n",
       "       ...\n",
       "       'power_bin_20.0', 'power_bin_21.0', 'power_bin_22.0', 'power_bin_23.0',\n",
       "       'power_bin_24.0', 'power_bin_25.0', 'power_bin_26.0', 'power_bin_27.0',\n",
       "       'power_bin_28.0', 'power_bin_29.0'],\n",
       "      dtype='object', length=370)"
      ]
     },
     "execution_count": 165,
     "metadata": {},
     "output_type": "execute_result"
    }
   ],
   "source": [
    "print(data.shape)\n",
    "data.columns"
   ]
  },
  {
   "cell_type": "code",
   "execution_count": 166,
   "id": "12f82cac",
   "metadata": {},
   "outputs": [],
   "source": [
    "# 这份数据可以给 LR 用\n",
    "data.to_csv(get_project_path('user_data', 'data_for_lr.csv'), index=False)"
   ]
  },
  {
   "cell_type": "markdown",
   "id": "20ed9b02",
   "metadata": {},
   "source": [
    "## 特征筛选\n",
    "\n",
    "### 1) 过滤式"
   ]
  },
  {
   "cell_type": "code",
   "execution_count": 167,
   "id": "e7d3f865",
   "metadata": {},
   "outputs": [
    {
     "name": "stdout",
     "output_type": "stream",
     "text": [
      "0.5728285196051496\n",
      "-0.4082569701616764\n",
      "0.058156610025581514\n",
      "0.3834909576057687\n",
      "0.259066833880992\n",
      "0.38691042393409447\n"
     ]
    }
   ],
   "source": [
    "# 相关性分析\n",
    "print(data['power'].corr(pd.Series(data['price']), method='spearman'))\n",
    "print(data['kilometer'].corr(pd.Series(data['price']), method='spearman'))\n",
    "print(data['brand_amount'].corr(pd.Series(data['price']), method='spearman'))\n",
    "print(data['brand_price_average'].corr(pd.Series(data['price']), method='spearman'))\n",
    "print(data['brand_price_max'].corr(pd.Series(data['price']), method='spearman'))\n",
    "print(data['brand_price_median'].corr(pd.Series(data['price']), method='spearman'))"
   ]
  },
  {
   "cell_type": "code",
   "execution_count": 168,
   "id": "330527f2",
   "metadata": {},
   "outputs": [
    {
     "data": {
      "text/plain": [
       "<Axes: title={'center': 'Correlation of Numeric Features with Price'}>"
      ]
     },
     "execution_count": 168,
     "metadata": {},
     "output_type": "execute_result"
    },
    {
     "data": {
      "image/png": "[encoded data removed]",
      "text/plain": [
       "<Figure size 700x700 with 2 Axes>"
      ]
     },
     "metadata": {},
     "output_type": "display_data"
    }
   ],
   "source": [
    "# 当然也可以直接看图\n",
    "data_numeric = data[['power', 'kilometer', 'brand_amount', 'brand_price_average', 'brand_price_max', 'brand_price_median']]\n",
    "correlation = data_numeric.corr()\n",
    "\n",
    "f, ax = plt.subplots(figsize=(7, 7))\n",
    "plt.title('Correlation of Numeric Features with Price', y=1, size=16)\n",
    "sns.heatmap(correlation, square=True, vmax=0.8)"
   ]
  },
  {
   "cell_type": "markdown",
   "id": "6e44dc19",
   "metadata": {},
   "source": [
    "### 2) 包裹式"
   ]
  },
  {
   "cell_type": "code",
   "execution_count": 169,
   "id": "deac2c3b",
   "metadata": {},
   "outputs": [
    {
     "data": {
      "text/plain": [
       "('bodyType',\n",
       " 'power',\n",
       " 'kilometer',\n",
       " 'v_1',\n",
       " 'v_3',\n",
       " 'v_4',\n",
       " 'v_6',\n",
       " 'v_9',\n",
       " 'v_13',\n",
       " 'v_14')"
      ]
     },
     "execution_count": 169,
     "metadata": {},
     "output_type": "execute_result"
    }
   ],
   "source": [
    "from mlxtend.feature_selection import SequentialFeatureSelector as SFS\n",
    "from sklearn.linear_model import LinearRegression\n",
    "\n",
    "sfs = SFS(\n",
    "    LinearRegression(),\n",
    "    k_features=10,\n",
    "    forward=True,\n",
    "    floating=False,\n",
    "    scoring='r2',\n",
    "    cv=0\n",
    ")\n",
    "# 模型训练只能使用训练集（因为使用了 price）\n",
    "x = Train_data.drop(['price'], axis=1)\n",
    "\n",
    "# 将所有 '-' 字符串替换为 NaN，然后填充为 0\n",
    "# x = x.replace('-', np.nan)\n",
    "x = x.fillna(0)\n",
    "\n",
    "# 确保所有列都是数值类型\n",
    "for col in x.columns:\n",
    "    if x[col].dtype == 'object':\n",
    "        x[col] = pd.to_numeric(x[col], errors='coerce')\n",
    "\n",
    "x = x.fillna(0)\n",
    "y = Train_data['price']\n",
    "sfs.fit(x, y)\n",
    "sfs.k_feature_names_"
   ]
  },
  {
   "cell_type": "code",
   "execution_count": 170,
   "id": "dad69162",
   "metadata": {},
   "outputs": [
    {
     "name": "stderr",
     "output_type": "stream",
     "text": [
      "/Users/lihaizhong/Documents/Project/build-your-own-x/build-your-own-ai/.venv/lib/python3.11/site-packages/numpy/_core/_methods.py:227: RuntimeWarning: Degrees of freedom <= 0 for slice\n",
      "  ret = _var(a, axis=axis, dtype=dtype, out=out, ddof=ddof,\n",
      "/Users/lihaizhong/Documents/Project/build-your-own-x/build-your-own-ai/.venv/lib/python3.11/site-packages/numpy/_core/_methods.py:219: RuntimeWarning: invalid value encountered in scalar divide\n",
      "  ret = ret.dtype.type(ret / rcount)\n"
     ]
    },
    {
     "data": {
      "image/png": "[encoded data removed]",
      "text/plain": [
       "<Figure size 640x480 with 1 Axes>"
      ]
     },
     "metadata": {},
     "output_type": "display_data"
    }
   ],
   "source": [
    "# 画出来，可以看到边际效益\n",
    "from mlxtend.plotting import plot_sequential_feature_selection as plot_sfs\n",
    "import matplotlib.pyplot as plt\n",
    "\n",
    "fig1 = plot_sfs(sfs.get_metric_dict(), kind='std_dev')\n",
    "plt.grid()\n",
    "plt.show()"
   ]
  },
  {
   "cell_type": "markdown",
   "id": "e00ee5b4",
   "metadata": {},
   "source": [
    "### 3) 嵌入式"
   ]
  },
  {
   "cell_type": "code",
   "execution_count": 171,
   "id": "9c9eb132",
   "metadata": {},
   "outputs": [],
   "source": [
    "# 下一章节介绍 Lasso 回归和决策树可以完成嵌入式特征选择\n",
    "# 大部分情况下都是用嵌入式做特征筛选"
   ]
  },
  {
   "cell_type": "markdown",
   "id": "b5fff1ff",
   "metadata": {},
   "source": [
    "# 四、经验总结\n",
    "\n",
    "特征工程是比赛中至关重要的一块。特别在传统的比赛，大家的模型选择可能都差不多，调参带来的效果增幅是非常有限的，但特征工程的好坏往往会决定最终的排名和成绩。\n",
    "\n",
    "特征工程的主要目的还是在于将数据转换为能更好地表示潜在问题的特征，从而提高机器学习的性能。比如，异常值处理是为了去除噪音，填补缺失值可以加入先验知识等。\n",
    "\n",
    "特征构造也属于特征工程的一部分，其目的是为了增强数据的表达。\n",
    "\n",
    "有些比赛的特征是匿名特征，这导致我们并不清楚特征相互之间的关联性，这是我们就只有单纯基于特征进行处理，比如装箱、groupby、agg 等这样一些操作进行特征统计。此外，还可以对特征进行进一步的 log、exp 等变换，或者对多个特征进行四则运算（如上面我们算出的使用时长），多项式组合等，然后进行筛选。由于特征的匿名性其实限制了很多对特征的处理，当然有时候用 NN 去提取一些特征也会达到意想不到的良好效果。\n",
    "\n",
    "对于知道特征含义（非匿名）的特征工程，特别是在工业类型比赛中，会基于信号处理、频域提取、丰度、偏度等构建更为有实际意义的特征，这就是结合背景的特征构建，在推荐系统中也是这样的，各种类型点击率统计，各时段统计，加用户属性的统计等等。这样一种特征构建往往要深入分析背后的业务逻辑或者说物理原理，从而才能更好地找到 magic。\n",
    "\n",
    "当然特征工程其实是和模型结合在一起的，这就是为什么要为 LR NN 做分桶和特征归一化的原因，而对于特征的处理效果和特征重要性等往往要通过模型来验证。\n",
    "\n",
    "总的来说，特征工程是一个入门简单，但想精通非常难的事情。"
   ]
  }
 ],
 "metadata": {
  "kernelspec": {
   "display_name": "build-your-own-ai (3.11.13)",
   "language": "python",
   "name": "python3"
  },
  "language_info": {
   "codemirror_mode": {
    "name": "ipython",
    "version": 3
   },
   "file_extension": ".py",
   "mimetype": "text/x-python",
   "name": "python",
   "nbconvert_exporter": "python",
   "pygments_lexer": "ipython3",
   "version": "3.11.13"
  }
 },
 "nbformat": 4,
 "nbformat_minor": 5
}
