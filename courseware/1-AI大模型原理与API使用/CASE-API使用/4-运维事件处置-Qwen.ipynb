{
 "cells": [
  {
   "cell_type": "code",
   "execution_count": 1,
   "id": "7bef0e88",
   "metadata": {},
   "outputs": [],
   "source": [
    "\"\"\"\n",
    "1、告警内容理解。根据输入的告警信息，结合第三方接口数据，判断当前的异常情况（告警对象、异常模式）；\n",
    "2、分析方法建议。根据当前告警内容，结合应急预案、运维文档和大语言模型自有知识，形成分析方法的建议；\n",
    "3、分析内容自动提取。根据用户输入的分析内容需求，调用多种第三方接口获取分析数据，并进行总结；\n",
    "4、处置方法推荐和执行。根据当前上下文的故障场景理解，结合应急预案和第三方接口，形成推荐处置方案，待用户确认后调用第三方接口进行执行。\n",
    "\"\"\"\n",
    "import json\n",
    "import os\n",
    "import random\n",
    "import dashscope\n",
    "from dashscope.api_entities.dashscope_response import Role\n",
    "# 从环境变量中，获取 DASHSCOPE_API_KEY\n",
    "api_key = os.environ.get('DASHSCOPE_API_KEY')\n",
    "dashscope.api_key = api_key\n",
    "\n",
    "# 通过第三方接口获取数据库服务器状态\n",
    "def get_current_status():\n",
    "    # 生成连接数数据\n",
    "    connections = random.randint(10, 100)\n",
    "    # 生成CPU使用率数据\n",
    "    cpu_usage = round(random.uniform(1, 100), 1)\n",
    "    # 生成内存使用率数据\n",
    "    memory_usage = round(random.uniform(10, 100), 1)\n",
    "    status_info = {\n",
    "        \"连接数\": connections,\n",
    "        \"CPU使用率\": f\"{cpu_usage}%\",\n",
    "        \"内存使用率\": f\"{memory_usage}%\"\n",
    "    }\n",
    "    return json.dumps(status_info, ensure_ascii=False)\n",
    "\n",
    "# 封装模型响应函数\n",
    "def get_response(messages):\n",
    "    response = dashscope.Generation.call(\n",
    "        model='qwen-turbo',\n",
    "        messages=messages,\n",
    "        tools=tools,\n",
    "        result_format='message'  # 将输出设置为message形式\n",
    "    )\n",
    "    return response\n",
    "    \n",
    "current_locals = locals()\n",
    "current_locals\n",
    "\n",
    "tools = [\n",
    "        {\n",
    "            \"type\": \"function\",\n",
    "            \"function\": {\n",
    "                \"name\": \"get_current_status\",\n",
    "                \"description\": \"调用监控系统接口，获取当前数据库服务器性能指标，包括：连接数、CPU使用率、内存使用率\",\n",
    "                \"parameters\": {\n",
    "                },\n",
    "                \"required\": []\n",
    "            }                \n",
    "        }\n",
    "    ]\n",
    "\n",
    "query = \"\"\"告警：数据库连接数超过设定阈值\n",
    "时间：2024-08-03 15:30:00\n",
    "\"\"\"\n",
    "messages=[\n",
    "    {\"role\": \"system\", \"content\": \"我是运维分析师，用户会告诉我们告警内容。我会基于告警内容，判断当前的异常情况（告警对象、异常模式）\"},\n",
    "    {\"role\": \"user\", \"content\": query}]\n"
   ]
  },
  {
   "cell_type": "code",
   "execution_count": 2,
   "id": "cf958f2b-b56c-4c4a-b957-356cbed3dcac",
   "metadata": {},
   "outputs": [],
   "source": [
    "while True:\n",
    "    response = get_response(messages)\n",
    "    message = response.output.choices[0].message\n",
    "    messages.append(message)\n",
    "    #print('response=', response)\n",
    "\n",
    "    if response.output.choices[0].finish_reason == 'stop':\n",
    "        break\n",
    "    \n",
    "    # 判断用户是否要call function\n",
    "    if message.tool_calls:\n",
    "        # 获取fn_name, fn_arguments\n",
    "        fn_name = message.tool_calls[0]['function']['name']\n",
    "        fn_arguments = message.tool_calls[0]['function']['arguments']\n",
    "        arguments_json = json.loads(fn_arguments)\n",
    "        #print(f'fn_name={fn_name} fn_arguments={fn_arguments}')\n",
    "        function = current_locals[fn_name]\n",
    "        tool_response = function(**arguments_json)\n",
    "        tool_info = {\"name\": \"get_current_weather\", \"role\":\"tool\", \"content\": tool_response}\n",
    "        #print('tool_info=', tool_info)\n",
    "        messages.append(tool_info)"
   ]
  },
  {
   "cell_type": "code",
   "execution_count": 6,
   "id": "9534f59c-eeb4-4d1b-9943-a08e9d8ca104",
   "metadata": {},
   "outputs": [
    {
     "data": {
      "text/plain": [
       "[{'role': 'system',\n",
       "  'content': '我是运维分析师，用户会告诉我们告警内容。我会基于告警内容，判断当前的异常情况（告警对象、异常模式）'},\n",
       " {'role': 'user', 'content': '告警：数据库连接数超过设定阈值\\n时间：2024-08-03 15:30:00\\n'},\n",
       " Message({'role': 'assistant', 'content': '根据告警内容“数据库连接数超过设定阈值”，可以初步判断当前的异常情况是数据库连接数过高，可能导致数据库负载过重，影响系统性能。\\n\\n接下来我将调用监控系统接口，获取当前数据库服务器的性能指标，包括连接数、CPU使用率和内存使用率，以便进一步确认当前的异常模式。', 'tool_calls': [{'function': {'name': 'get_current_status', 'arguments': '{}'}, 'index': 0, 'id': 'call_6b818a2632be46d5a4b00a', 'type': 'function'}]}),\n",
       " {'name': 'get_current_weather',\n",
       "  'role': 'tool',\n",
       "  'content': '{\"连接数\": 13, \"CPU使用率\": \"10.9%\", \"内存使用率\": \"17.8%\"}'},\n",
       " Message({'role': 'assistant', 'content': '当前数据库服务器的性能指标如下：\\n- 连接数：13\\n- CPU使用率：10.9%\\n- 内存使用率：17.8%\\n\\n尽管告警提示数据库连接数超过设定阈值，但目前的实际连接数为13，远低于通常认为的高负载水平。因此，可能存在以下几种情况：\\n1. 告警阈值设置得过于严格。\\n2. 在告警触发后，连接数已经下降至正常范围。\\n3. 监控系统存在误报。\\n\\n建议检查监控系统的告警阈值设置，并核实是否有其他相关告警或日志信息，以便更准确地定位问题原因。'})]"
      ]
     },
     "execution_count": 6,
     "metadata": {},
     "output_type": "execute_result"
    }
   ],
   "source": [
    "messages"
   ]
  }
 ],
 "metadata": {
  "kernelspec": {
   "display_name": ".venv",
   "language": "python",
   "name": "python3"
  },
  "language_info": {
   "codemirror_mode": {
    "name": "ipython",
    "version": 3
   },
   "file_extension": ".py",
   "mimetype": "text/x-python",
   "name": "python",
   "nbconvert_exporter": "python",
   "pygments_lexer": "ipython3",
   "version": "3.11.13"
  }
 },
 "nbformat": 4,
 "nbformat_minor": 5
}
