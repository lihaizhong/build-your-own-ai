{
 "cells": [
  {
   "cell_type": "code",
   "execution_count": 1,
   "id": "2d000c6f-b435-4224-9fca-2a46492648e0",
   "metadata": {},
   "outputs": [
    {
     "name": "stdout",
     "output_type": "stream",
     "text": [
      "你好呀！😊我是 **DeepSeek-R1**，由中国的 **深度求索（DeepSeek）公司**研发的一款大语言模型。我的特点包括：\n",
      "\n",
      "- **纯文本推理模型**（目前还不支持图像识别）\n",
      "- **上下文记忆长达128K tokens**（可以处理超长文档或复杂对话）\n",
      "- **知识更新到2024年7月**\n",
      "- **完全免费使用！**\n",
      "- 支持文件上传（PDF、Word、Excel等），我能从中读取文字内容帮你总结、分析\n",
      "\n",
      "你可以把我当作一个全能小助手，无论是写作、翻译、编程、学习、办公、生活建议……我都能帮上忙！🌟\n",
      "\n",
      "有什么我可以为你做的吗？📚✨\n"
     ]
    }
   ],
   "source": [
    "import dashscope\n",
    "from dashscope.api_entities.dashscope_response import Role\n",
    "import os\n",
    "\n",
    "# 从环境变量中获取 API Key\n",
    "dashscope.api_key = os.getenv('DASHSCOPE_API_KEY')\n",
    "\n",
    "# 封装模型响应函数\n",
    "def get_response(messages):\n",
    "    response = dashscope.Generation.call(\n",
    "        model='deepseek-r1',  # 使用 deepseek-r1 模型\n",
    "        messages=messages,\n",
    "        result_format='message'  # 将输出设置为message形式\n",
    "    )\n",
    "    return response\n",
    "\n",
    "# 测试对话\n",
    "messages = [\n",
    "    {\"role\": \"system\", \"content\": \"You are a helpful assistant\"},\n",
    "    {\"role\": \"user\", \"content\": \"你好，你是什么大模型？\"}\n",
    "]\n",
    "response = get_response(messages)\n",
    "print(response.output.choices[0].message.content)"
   ]
  }
 ],
 "metadata": {
  "kernelspec": {
   "display_name": "Python 3 (ipykernel)",
   "language": "python",
   "name": "python3"
  },
  "language_info": {
   "codemirror_mode": {
    "name": "ipython",
    "version": 3
   },
   "file_extension": ".py",
   "mimetype": "text/x-python",
   "name": "python",
   "nbconvert_exporter": "python",
   "pygments_lexer": "ipython3",
   "version": "3.11.6"
  }
 },
 "nbformat": 4,
 "nbformat_minor": 5
}
