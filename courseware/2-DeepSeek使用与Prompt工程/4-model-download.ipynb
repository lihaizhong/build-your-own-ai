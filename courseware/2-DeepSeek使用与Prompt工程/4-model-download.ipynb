{
 "cells": [
  {
   "cell_type": "code",
   "execution_count": null,
   "id": "d7902de7-50e1-4df5-b2fa-3bc745e4941c",
   "metadata": {},
   "outputs": [],
   "source": [
    "# 模型下载\n",
    "from modelscope import snapshot_download\n",
    "snapshot_download('deepseek-ai/DeepSeek-R1-Distill-Qwen-7B', cache_dir=\"/root/autodl-tmp/models\")"
   ]
  }
 ],
 "metadata": {
  "kernelspec": {
   "display_name": "Python 3 (ipykernel)",
   "language": "python",
   "name": "python3"
  },
  "language_info": {
   "codemirror_mode": {
    "name": "ipython",
    "version": 3
   },
   "file_extension": ".py",
   "mimetype": "text/x-python",
   "name": "python",
   "nbconvert_exporter": "python",
   "pygments_lexer": "ipython3",
   "version": "3.10.8"
  }
 },
 "nbformat": 4,
 "nbformat_minor": 5
}
