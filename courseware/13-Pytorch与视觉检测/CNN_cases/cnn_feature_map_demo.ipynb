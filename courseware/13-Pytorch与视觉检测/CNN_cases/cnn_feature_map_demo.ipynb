{
 "cells": [
  {
   "cell_type": "code",
   "execution_count": 1,
   "id": "eab101fe",
   "metadata": {},
   "outputs": [
    {
     "name": "stdout",
     "output_type": "stream",
     "text": [
      "torch.Size([1, 1, 5, 5])\n",
      "tensor([[[[4., 3., 4.],\n",
      "          [2., 4., 3.],\n",
      "          [2., 3., 4.]]]], grad_fn=<ConvolutionBackward0>)\n"
     ]
    }
   ],
   "source": [
    "import torch\n",
    "import torch.nn as nn\n",
    "import numpy as np\n",
    "\n",
    "image = np.array([[1,1,1,0,0],\n",
    "         [0,1,1,1,0],\n",
    "         [0,0,1,1,1],\n",
    "         [0,0,1,1,0],\n",
    "         [0,1,1,0,0]])\n",
    "filter_1 = np.array([[1, 0, 1],\n",
    "                    [0, 1, 0], \n",
    "                    [1, 0, 1]])\n",
    "filters = np.array([filter_1])\n",
    "image = image.astype('float32')\n",
    "image = torch.from_numpy(image).unsqueeze(0).unsqueeze(1)\n",
    "print(image.shape)\n",
    "weight = torch.from_numpy(filters).unsqueeze(1).type(torch.FloatTensor)\n",
    "# 使用卷积对四维数据进行处理，这里只有一张图片\n",
    "conv = nn.Conv2d(1,1, kernel_size=(3,3), bias=False)\n",
    "conv.weight = torch.nn.Parameter(weight)\n",
    "conv_output = conv(image)\n",
    "print(conv_output)"
   ]
  }
 ],
 "metadata": {
  "kernelspec": {
   "display_name": "Python 3 (ipykernel)",
   "language": "python",
   "name": "python3"
  },
  "language_info": {
   "codemirror_mode": {
    "name": "ipython",
    "version": 3
   },
   "file_extension": ".py",
   "mimetype": "text/x-python",
   "name": "python",
   "nbconvert_exporter": "python",
   "pygments_lexer": "ipython3",
   "version": "3.11.6"
  }
 },
 "nbformat": 4,
 "nbformat_minor": 5
}
